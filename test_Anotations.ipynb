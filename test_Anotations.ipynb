{
 "cells": [
  {
   "cell_type": "code",
   "execution_count": null,
   "id": "9b3ea235",
   "metadata": {},
   "outputs": [],
   "source": [
    "from Anotations import Anotaciones"
   ]
  },
  {
   "cell_type": "code",
   "execution_count": 3,
   "id": "d1346367",
   "metadata": {},
   "outputs": [
    {
     "name": "stdout",
     "output_type": "stream",
     "text": [
      "   onset  duration         description\n",
      "0    5.0       2.0  Inicio_Experimento\n",
      "1   12.5       3.0            Evento_1\n",
      "2   20.0       3.5            Evento_2\n"
     ]
    }
   ],
   "source": [
    "##instanciamos un objeto Anotaciones\n",
    "anotaciones = Anotaciones(\n",
    "onset=[5.0, 12.5, 20.0],\n",
    "duration=[2.0, 3.0, 3.5],\n",
    "description=['Inicio_Experimento', 'Evento_1', 'Evento_2'])\n",
    "print(anotaciones.get_anotations())"
   ]
  },
  {
   "cell_type": "code",
   "execution_count": 4,
   "id": "a67b7ae2",
   "metadata": {},
   "outputs": [
    {
     "name": "stdout",
     "output_type": "stream",
     "text": [
      "   onset  duration         description\n",
      "0    5.0      2.00  Inicio_Experimento\n",
      "1   12.5      3.00            Evento_1\n",
      "2   20.0      3.50            Evento_2\n",
      "3   30.0      2.85            Evento_3\n"
     ]
    }
   ],
   "source": [
    "##Agregamos una nueva anotación \n",
    "anotaciones.add(onset=30.0, duration=2.85, description='Evento_3')\n",
    "print(anotaciones.get_anotations())"
   ]
  },
  {
   "cell_type": "code",
   "execution_count": 5,
   "id": "e25c32df",
   "metadata": {},
   "outputs": [
    {
     "name": "stdout",
     "output_type": "stream",
     "text": [
      "   onset  duration         description\n",
      "0    5.0      2.00  Inicio_Experimento\n",
      "1   20.0      3.50            Evento_2\n",
      "2   30.0      2.85            Evento_3\n"
     ]
    }
   ],
   "source": [
    "## Eliminamos un evento por descipción *****\n",
    "anotaciones.remove(description='Evento_1')\n",
    "print(anotaciones.get_anotations())"
   ]
  },
  {
   "cell_type": "code",
   "execution_count": 6,
   "id": "21a6ce91",
   "metadata": {},
   "outputs": [
    {
     "data": {
      "text/html": [
       "<div>\n",
       "<style scoped>\n",
       "    .dataframe tbody tr th:only-of-type {\n",
       "        vertical-align: middle;\n",
       "    }\n",
       "\n",
       "    .dataframe tbody tr th {\n",
       "        vertical-align: top;\n",
       "    }\n",
       "\n",
       "    .dataframe thead th {\n",
       "        text-align: right;\n",
       "    }\n",
       "</style>\n",
       "<table border=\"1\" class=\"dataframe\">\n",
       "  <thead>\n",
       "    <tr style=\"text-align: right;\">\n",
       "      <th></th>\n",
       "      <th>onset</th>\n",
       "      <th>duration</th>\n",
       "      <th>description</th>\n",
       "    </tr>\n",
       "  </thead>\n",
       "  <tbody>\n",
       "    <tr>\n",
       "      <th>2</th>\n",
       "      <td>30.0</td>\n",
       "      <td>2.85</td>\n",
       "      <td>Evento_3</td>\n",
       "    </tr>\n",
       "  </tbody>\n",
       "</table>\n",
       "</div>"
      ],
      "text/plain": [
       "   onset  duration description\n",
       "2   30.0      2.85    Evento_3"
      ]
     },
     "execution_count": 6,
     "metadata": {},
     "output_type": "execute_result"
    }
   ],
   "source": [
    "## Buscando anotaciones con find *****\n",
    "anotaciones.find(\"Evento_3\")\n"
   ]
  },
  {
   "cell_type": "code",
   "execution_count": 7,
   "id": "48408e0e",
   "metadata": {},
   "outputs": [
    {
     "name": "stdout",
     "output_type": "stream",
     "text": [
      "Error! Ya existe una anotación con la descripción: Evento_3\n"
     ]
    }
   ],
   "source": [
    "## Agregar una anotacion con una descripcion que ya existe\n",
    "anotaciones.add(\"35.0\",\"3.25\",\"Evento_3\")"
   ]
  },
  {
   "cell_type": "code",
   "execution_count": 8,
   "id": "bc6c7d1a",
   "metadata": {},
   "outputs": [],
   "source": [
    "## Guardar\n",
    "num=9\n",
    "sesion=24\n",
    "anotaciones.save(f\"anotaciones_{num}.csv\")"
   ]
  },
  {
   "cell_type": "code",
   "execution_count": 9,
   "id": "e2bd404e",
   "metadata": {},
   "outputs": [
    {
     "data": {
      "text/html": [
       "<div>\n",
       "<style scoped>\n",
       "    .dataframe tbody tr th:only-of-type {\n",
       "        vertical-align: middle;\n",
       "    }\n",
       "\n",
       "    .dataframe tbody tr th {\n",
       "        vertical-align: top;\n",
       "    }\n",
       "\n",
       "    .dataframe thead th {\n",
       "        text-align: right;\n",
       "    }\n",
       "</style>\n",
       "<table border=\"1\" class=\"dataframe\">\n",
       "  <thead>\n",
       "    <tr style=\"text-align: right;\">\n",
       "      <th></th>\n",
       "      <th>onset</th>\n",
       "      <th>duration</th>\n",
       "      <th>description</th>\n",
       "    </tr>\n",
       "  </thead>\n",
       "  <tbody>\n",
       "    <tr>\n",
       "      <th>0</th>\n",
       "      <td>5.0</td>\n",
       "      <td>2.00</td>\n",
       "      <td>Inicio_Experimento</td>\n",
       "    </tr>\n",
       "    <tr>\n",
       "      <th>1</th>\n",
       "      <td>20.0</td>\n",
       "      <td>3.50</td>\n",
       "      <td>Evento_2</td>\n",
       "    </tr>\n",
       "    <tr>\n",
       "      <th>2</th>\n",
       "      <td>30.0</td>\n",
       "      <td>2.85</td>\n",
       "      <td>Evento_3</td>\n",
       "    </tr>\n",
       "  </tbody>\n",
       "</table>\n",
       "</div>"
      ],
      "text/plain": [
       "   onset  duration         description\n",
       "0    5.0      2.00  Inicio_Experimento\n",
       "1   20.0      3.50            Evento_2\n",
       "2   30.0      2.85            Evento_3"
      ]
     },
     "execution_count": 9,
     "metadata": {},
     "output_type": "execute_result"
    }
   ],
   "source": [
    "## Cargar\n",
    "prueba=Anotaciones()\n",
    "prueba.load(f\"anotaciones_{num}.csv\")\n",
    "prueba.get_anotations()"
   ]
  },
  {
   "cell_type": "code",
   "execution_count": 17,
   "id": "9bc8b557",
   "metadata": {},
   "outputs": [
    {
     "name": "stdout",
     "output_type": "stream",
     "text": [
      "   onset  duration         description\n",
      "0    5.0      2.00  Inicio_Experimento\n",
      "1   20.0      3.50            Evento_2\n",
      "2   30.0      2.85            Evento_3\n"
     ]
    }
   ],
   "source": [
    "## y por si a alguien le pinta\n",
    "print(prueba)"
   ]
  }
 ],
 "metadata": {
  "kernelspec": {
   "display_name": "Python 3",
   "language": "python",
   "name": "python3"
  },
  "language_info": {
   "codemirror_mode": {
    "name": "ipython",
    "version": 3
   },
   "file_extension": ".py",
   "mimetype": "text/x-python",
   "name": "python",
   "nbconvert_exporter": "python",
   "pygments_lexer": "ipython3",
   "version": "3.11.5"
  }
 },
 "nbformat": 4,
 "nbformat_minor": 5
}
