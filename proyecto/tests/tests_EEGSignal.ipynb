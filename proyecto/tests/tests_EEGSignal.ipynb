{
 "cells": [
  {
   "cell_type": "code",
   "execution_count": 1,
   "id": "58e2cfd1",
   "metadata": {},
   "outputs": [],
   "source": [
    "import sys\n",
    "import os\n",
    "\n",
    "# Subir un nivel desde 'tests/' a la carpeta 'proyecto/'\n",
    "project_path = os.path.abspath(\"..\")\n",
    "sys.path.insert(0, project_path)\n",
    "\n",
    "from RawSignal import RawSignal\n",
    "from Info import Info\n",
    "from Anotations import Anotaciones\n",
    "from EEGSignal import EEGSignal\n",
    "import numpy as np"
   ]
  },
  {
   "cell_type": "markdown",
   "id": "d304b1aa",
   "metadata": {},
   "source": [
    "Cargamos los metadatos e instanciamos RawSignal"
   ]
  },
  {
   "cell_type": "code",
   "execution_count": 2,
   "id": "4c1f998e",
   "metadata": {},
   "outputs": [],
   "source": [
    "eeg_data = np.load(\"../data/eeg/eeg_signal.np\")\n",
    "sfreq = 512.0\n",
    "ch_names = ['FP1', 'FPz', 'FP2', 'AF7', 'AF3', 'AF4', 'AF8', 'F7', 'F5', 'F3', 'F1', 'Fz',\n",
    "            'F2', 'F4', 'F6', 'F8', 'FT7', 'FC5', 'FC3', 'FC1', 'FCz', 'FC2', 'FC4', 'FC6',\n",
    "            'FT8', 'T7', 'C5', 'C3', 'C1', 'Cz', 'C2', 'C4', 'C6', 'T8', 'TP7', 'CP5', 'CP3',\n",
    "            'CP1', 'CPz', 'CP2', 'CP4', 'CP6', 'TP8', 'P7', 'P5', 'P3', 'P1', 'Pz', 'P2',\n",
    "            'P4', 'P6', 'P8', 'PO7', 'PO3', 'POz', 'PO4', 'PO8', 'O1', 'Oz', 'O2', 'F9', 'F10']\n",
    "\n",
    "info = Info(ch_names=ch_names, sfreq=sfreq, ch_types= \"EEG\")\n",
    "anotaciones= Anotaciones()\n",
    "anotaciones.load(\"../proyecto/data/eeg/eventos_ejemplo.csv\")\n",
    "raw = RawSignal(data=eeg_data, sfreq=sfreq, info=info,anotaciones=anotaciones)"
   ]
  },
  {
   "cell_type": "code",
   "execution_count": 103,
   "id": "1c42def7",
   "metadata": {},
   "outputs": [],
   "source": [
    "raw = raw.remove_segment(420,430)"
   ]
  },
  {
   "cell_type": "markdown",
   "id": "621968c1",
   "metadata": {},
   "source": [
    "Instanciamos EEGSignal\n"
   ]
  },
  {
   "cell_type": "code",
   "execution_count": 104,
   "id": "cff74956",
   "metadata": {},
   "outputs": [
    {
     "name": "stdout",
     "output_type": "stream",
     "text": [
      "Creating RawArray with float64 data, n_channels=62, n_times=382927\n",
      "    Range : 0 ... 382926 =      0.000 ...   747.902 secs\n",
      "Ready.\n"
     ]
    },
    {
     "name": "stderr",
     "output_type": "stream",
     "text": [
      "c:\\Users\\Usuario\\Desktop\\7mo\\Programación\\TIF\\proyecto\\EEGSignal.py:28: RuntimeWarning: Fiducial point nasion not found, assuming identity unknown to head transformation\n",
      "  self._raw_mne.set_montage(self.montage)\n"
     ]
    }
   ],
   "source": [
    "eeg_data = EEGSignal(signal = raw,referencia = \"canal\", montaje =\"../ghiamp_montage.sfp\" )"
   ]
  },
  {
   "cell_type": "markdown",
   "id": "2ddc33e2",
   "metadata": {},
   "source": [
    "Probamos método change_ref()"
   ]
  },
  {
   "cell_type": "code",
   "execution_count": 105,
   "id": "7c82df41",
   "metadata": {},
   "outputs": [
    {
     "data": {
      "text/plain": [
       "array([[ 3.05846334e+00,  6.93781509e+01,  5.12287476e+02, ...,\n",
       "        -1.41609375e+02, -1.54146606e+02, -1.71841797e+02],\n",
       "       [ 2.48378801e+00,  5.66130333e+01,  4.18650482e+02, ...,\n",
       "        -1.04327164e+01, -1.45307064e+01, -2.03784599e+01],\n",
       "       [ 1.72022533e+00,  3.97008247e+01,  2.94783447e+02, ...,\n",
       "        -1.11978516e+02, -1.24081688e+02, -1.42575546e+02],\n",
       "       ...,\n",
       "       [ 1.89003205e+00,  3.91642265e+01,  2.82590820e+02, ...,\n",
       "         1.36769342e+01,  7.61095285e+00,  3.84002328e-01],\n",
       "       [ 2.03551674e+00,  5.38551903e+01,  4.11149048e+02, ...,\n",
       "         1.73807964e+01,  1.12860537e+01,  3.45868993e+00],\n",
       "       [-1.91750959e-01, -4.18083763e+00, -3.04542866e+01, ...,\n",
       "        -1.20522394e+01, -1.27150278e+01, -1.41931982e+01]],\n",
       "      shape=(62, 382927), dtype=float32)"
      ]
     },
     "execution_count": 105,
     "metadata": {},
     "output_type": "execute_result"
    }
   ],
   "source": [
    "eeg_data.signal.data"
   ]
  },
  {
   "cell_type": "code",
   "execution_count": 106,
   "id": "ef3d769e",
   "metadata": {},
   "outputs": [
    {
     "name": "stdout",
     "output_type": "stream",
     "text": [
      "EEG channel type selected for re-referencing\n",
      "Applying average reference.\n",
      "Applying a custom ('EEG',) reference.\n"
     ]
    },
    {
     "name": "stdout",
     "output_type": "stream",
     "text": [
      "Creating RawArray with float64 data, n_channels=62, n_times=382927\n",
      "    Range : 0 ... 382926 =      0.000 ...   747.902 secs\n",
      "Ready.\n"
     ]
    },
    {
     "name": "stderr",
     "output_type": "stream",
     "text": [
      "c:\\Users\\Usuario\\Desktop\\7mo\\Programación\\TIF\\proyecto\\EEGSignal.py:28: RuntimeWarning: Fiducial point nasion not found, assuming identity unknown to head transformation\n",
      "  self._raw_mne.set_montage(self.montage)\n"
     ]
    },
    {
     "name": "stdout",
     "output_type": "stream",
     "text": [
      "Referencia cambiada a 'promedio'.\n"
     ]
    }
   ],
   "source": [
    "eeg_prom = eeg_data.change_ref(\"promedio\") #cambiamos la referencia a promedio"
   ]
  },
  {
   "cell_type": "code",
   "execution_count": 107,
   "id": "b769b7ea",
   "metadata": {},
   "outputs": [
    {
     "data": {
      "text/plain": [
       "array([[ 1.49383873e+00,  2.64153014e+01,  1.81006255e+02, ...,\n",
       "        -1.31142184e+02, -1.36109075e+02, -1.45365432e+02],\n",
       "       [ 9.19163411e-01,  1.36501837e+01,  8.73692612e+01, ...,\n",
       "         3.44744738e-02,  3.50682504e+00,  6.09790474e+00],\n",
       "       [ 1.55600731e-01, -3.26202483e+00, -3.64977737e+01, ...,\n",
       "        -1.01511325e+02, -1.06044156e+02, -1.16099182e+02],\n",
       "       ...,\n",
       "       [ 3.25407450e-01, -3.79862303e+00, -4.86904007e+01, ...,\n",
       "         2.41441251e+01,  2.56484843e+01,  2.68603670e+01],\n",
       "       [ 4.70892136e-01,  1.08923407e+01,  7.98678269e+01, ...,\n",
       "         2.78479873e+01,  2.93235851e+01,  2.99350546e+01],\n",
       "       [-1.75637556e+00, -4.71436872e+01, -3.61735508e+02, ...,\n",
       "        -1.58504857e+00,  5.32250363e+00,  1.22831665e+01]],\n",
       "      shape=(62, 382927))"
      ]
     },
     "execution_count": 107,
     "metadata": {},
     "output_type": "execute_result"
    }
   ],
   "source": [
    "eeg_prom.signal.data"
   ]
  },
  {
   "cell_type": "code",
   "execution_count": 108,
   "id": "995e99fd",
   "metadata": {},
   "outputs": [
    {
     "name": "stdout",
     "output_type": "stream",
     "text": [
      "Fitted sphere radius:         95.0 mm\n",
      "Origin head coordinates:      -0.0 0.0 -0.2 mm\n",
      "Origin device coordinates:    -0.0 0.0 -0.2 mm\n",
      "Creating RawArray with float64 data, n_channels=62, n_times=382927\n",
      "    Range : 0 ... 382926 =      0.000 ...   747.902 secs\n",
      "Ready.\n",
      "Referencia cambiada a 'laplaciano'.\n"
     ]
    },
    {
     "name": "stderr",
     "output_type": "stream",
     "text": [
      "c:\\Users\\Usuario\\Desktop\\7mo\\Programación\\TIF\\proyecto\\EEGSignal.py:28: RuntimeWarning: Fiducial point nasion not found, assuming identity unknown to head transformation\n",
      "  self._raw_mne.set_montage(self.montage)\n"
     ]
    }
   ],
   "source": [
    "eeg_f = eeg_data.change_ref(\"laplaciano\")"
   ]
  },
  {
   "cell_type": "code",
   "execution_count": 109,
   "id": "41deaebb",
   "metadata": {},
   "outputs": [
    {
     "data": {
      "text/plain": [
       "array([[ 1.78858104e+03,  4.19691113e+04,  3.13034433e+05, ...,\n",
       "        -5.73397292e+04, -6.16878623e+04, -6.67555996e+04],\n",
       "       [ 1.36435149e+03,  2.23043698e+04,  1.49452802e+05, ...,\n",
       "        -1.41909054e+04, -1.12334501e+04, -7.11622701e+03],\n",
       "       [ 5.71602672e+02,  1.05285804e+04,  7.35775732e+04, ...,\n",
       "        -3.34156932e+04, -3.53660539e+04, -3.88875171e+04],\n",
       "       ...,\n",
       "       [ 1.12441785e+03,  1.73106173e+04,  1.13183402e+05, ...,\n",
       "        -2.65409463e+03, -2.38452527e+03, -4.46303370e+03],\n",
       "       [ 4.24232723e+01, -9.01548437e+03, -8.46596402e+04, ...,\n",
       "         4.37195001e+04,  4.66359162e+04,  5.03016267e+04],\n",
       "       [ 3.60779012e+02, -1.38479319e+03, -2.71912154e+04, ...,\n",
       "         2.25192841e+04,  2.57628749e+04,  2.88535252e+04]],\n",
       "      shape=(62, 382927))"
      ]
     },
     "execution_count": 109,
     "metadata": {},
     "output_type": "execute_result"
    }
   ],
   "source": [
    "eeg_f.signal.data"
   ]
  },
  {
   "cell_type": "code",
   "execution_count": 110,
   "id": "b7b21a52",
   "metadata": {},
   "outputs": [
    {
     "name": "stdout",
     "output_type": "stream",
     "text": [
      "EEG channel type selected for re-referencing\n"
     ]
    },
    {
     "name": "stdout",
     "output_type": "stream",
     "text": [
      "Applying a custom ('EEG',) reference.\n",
      "Creating RawArray with float64 data, n_channels=62, n_times=382927\n",
      "    Range : 0 ... 382926 =      0.000 ...   747.902 secs\n",
      "Ready.\n",
      "Referencia cambiada a 'canal'.\n"
     ]
    },
    {
     "name": "stderr",
     "output_type": "stream",
     "text": [
      "c:\\Users\\Usuario\\Desktop\\7mo\\Programación\\TIF\\proyecto\\EEGSignal.py:28: RuntimeWarning: Fiducial point nasion not found, assuming identity unknown to head transformation\n",
      "  self._raw_mne.set_montage(self.montage)\n"
     ]
    }
   ],
   "source": [
    "eeg_canal= eeg_data.change_ref(\"canal\",\"FPz\")"
   ]
  },
  {
   "cell_type": "code",
   "execution_count": 111,
   "id": "ba64fec9",
   "metadata": {},
   "outputs": [
    {
     "data": {
      "text/plain": [
       "array([[ 5.74675322e-01,  1.27651176e+01,  9.36369934e+01, ...,\n",
       "        -1.31176659e+02, -1.39615900e+02, -1.51463337e+02],\n",
       "       [ 0.00000000e+00,  0.00000000e+00,  0.00000000e+00, ...,\n",
       "         0.00000000e+00,  0.00000000e+00,  0.00000000e+00],\n",
       "       [-7.63562679e-01, -1.69122086e+01, -1.23867035e+02, ...,\n",
       "        -1.01545799e+02, -1.09550982e+02, -1.22197086e+02],\n",
       "       ...,\n",
       "       [-5.93755960e-01, -1.74488068e+01, -1.36059662e+02, ...,\n",
       "         2.41096506e+01,  2.21416593e+01,  2.07624623e+01],\n",
       "       [-4.48271275e-01, -2.75784302e+00, -7.50143433e+00, ...,\n",
       "         2.78135128e+01,  2.58167601e+01,  2.38371499e+01],\n",
       "       [-2.67553897e+00, -6.07938709e+01, -4.49104769e+02, ...,\n",
       "        -1.61952305e+00,  1.81567860e+00,  6.18526173e+00]],\n",
       "      shape=(62, 382927))"
      ]
     },
     "execution_count": 111,
     "metadata": {},
     "output_type": "execute_result"
    }
   ],
   "source": [
    "eeg_canal.signal.data"
   ]
  },
  {
   "cell_type": "markdown",
   "id": "2bcf3208",
   "metadata": {},
   "source": [
    "Probamos método aplicar_filtro_laplaciano()"
   ]
  },
  {
   "cell_type": "code",
   "execution_count": 112,
   "id": "34c05d8b",
   "metadata": {},
   "outputs": [
    {
     "name": "stdout",
     "output_type": "stream",
     "text": [
      "Fitted sphere radius:         95.0 mm\n",
      "Origin head coordinates:      -0.0 0.0 -0.2 mm\n",
      "Origin device coordinates:    -0.0 0.0 -0.2 mm\n",
      "Creating RawArray with float64 data, n_channels=62, n_times=382927\n",
      "    Range : 0 ... 382926 =      0.000 ...   747.902 secs\n",
      "Ready.\n"
     ]
    },
    {
     "name": "stderr",
     "output_type": "stream",
     "text": [
      "c:\\Users\\Usuario\\Desktop\\7mo\\Programación\\TIF\\proyecto\\EEGSignal.py:28: RuntimeWarning: Fiducial point nasion not found, assuming identity unknown to head transformation\n",
      "  self._raw_mne.set_montage(self.montage)\n"
     ]
    }
   ],
   "source": [
    "eeg_laplaciano = eeg_data.aplicar_filtro_laplaciano() "
   ]
  },
  {
   "cell_type": "code",
   "execution_count": 113,
   "id": "42659309",
   "metadata": {},
   "outputs": [
    {
     "data": {
      "text/plain": [
       "array([[ 1.78858104e+03,  4.19691113e+04,  3.13034433e+05, ...,\n",
       "        -5.73397292e+04, -6.16878623e+04, -6.67555996e+04],\n",
       "       [ 1.36435149e+03,  2.23043698e+04,  1.49452802e+05, ...,\n",
       "        -1.41909054e+04, -1.12334501e+04, -7.11622701e+03],\n",
       "       [ 5.71602672e+02,  1.05285804e+04,  7.35775732e+04, ...,\n",
       "        -3.34156932e+04, -3.53660539e+04, -3.88875171e+04],\n",
       "       ...,\n",
       "       [ 1.12441785e+03,  1.73106173e+04,  1.13183402e+05, ...,\n",
       "        -2.65409463e+03, -2.38452527e+03, -4.46303370e+03],\n",
       "       [ 4.24232723e+01, -9.01548437e+03, -8.46596402e+04, ...,\n",
       "         4.37195001e+04,  4.66359162e+04,  5.03016267e+04],\n",
       "       [ 3.60779012e+02, -1.38479319e+03, -2.71912154e+04, ...,\n",
       "         2.25192841e+04,  2.57628749e+04,  2.88535252e+04]],\n",
       "      shape=(62, 382927))"
      ]
     },
     "execution_count": 113,
     "metadata": {},
     "output_type": "execute_result"
    }
   ],
   "source": [
    "eeg_laplaciano.signal.data"
   ]
  },
  {
   "cell_type": "markdown",
   "id": "1cb369ef",
   "metadata": {},
   "source": [
    "Probamos calcular_espectro()"
   ]
  },
  {
   "cell_type": "code",
   "execution_count": 114,
   "id": "46049faf",
   "metadata": {},
   "outputs": [
    {
     "data": {
      "text/plain": [
       "(array([0.00000000e+00, 1.33706947e-03, 2.67413894e-03, ...,\n",
       "        7.99968662e+01, 7.99982033e+01, 7.99995404e+01], shape=(59833,)),\n",
       " array([2650.71264648, 3348.95219727, 3867.56245117, ..., 5297.26889648,\n",
       "        4437.35698242, 2836.89858398], shape=(59833,)),\n",
       " None)"
      ]
     },
     "execution_count": 114,
     "metadata": {},
     "output_type": "execute_result"
    }
   ],
   "source": [
    "eeg_data.calcular_espectro()"
   ]
  },
  {
   "cell_type": "code",
   "execution_count": 115,
   "id": "329169c7",
   "metadata": {},
   "outputs": [
    {
     "data": {
      "text/plain": [
       "(array([0.00000000e+00, 1.33706947e-03, 2.67413894e-03, ...,\n",
       "        7.99968662e+01, 7.99982033e+01, 7.99995404e+01], shape=(59833,)),\n",
       " array([1845.9189209 , 2267.10725098, 2494.12421875, ..., 7121.02050781,\n",
       "        6064.16582031, 3796.971875  ], shape=(59833,)),\n",
       " None)"
      ]
     },
     "execution_count": 115,
     "metadata": {},
     "output_type": "execute_result"
    }
   ],
   "source": [
    "eeg_data.calcular_espectro(\"Cz\")"
   ]
  },
  {
   "cell_type": "code",
   "execution_count": 116,
   "id": "e3f41347",
   "metadata": {},
   "outputs": [
    {
     "data": {
      "text/plain": [
       "(array([0.00000000e+00, 1.33706947e-03, 2.67413894e-03, ...,\n",
       "        7.99968662e+01, 7.99982033e+01, 7.99995404e+01], shape=(59833,)),\n",
       " array([2097.6701416 , 2574.95661621, 2877.79108887, ..., 6601.01264648,\n",
       "        5609.48481445, 3514.4355957 ], shape=(59833,)),\n",
       " None)"
      ]
     },
     "execution_count": 116,
     "metadata": {},
     "output_type": "execute_result"
    }
   ],
   "source": [
    "eeg_data.calcular_espectro([\"Cz\", \"C1\", \"C2\"])"
   ]
  },
  {
   "cell_type": "markdown",
   "id": "11cbd0ca",
   "metadata": {},
   "source": [
    "Probamos calcular_hilbert()"
   ]
  },
  {
   "cell_type": "code",
   "execution_count": 118,
   "id": "e68ef378",
   "metadata": {},
   "outputs": [],
   "source": [
    "hilbert = eeg_data.calcular_hilbert(canales='Fz', envelope=True, recorte_segundos=(2, 0),\n",
    "clip_percentiles=(1, 99), plot=True)"
   ]
  }
 ],
 "metadata": {
  "kernelspec": {
   "display_name": "base",
   "language": "python",
   "name": "python3"
  },
  "language_info": {
   "codemirror_mode": {
    "name": "ipython",
    "version": 3
   },
   "file_extension": ".py",
   "mimetype": "text/x-python",
   "name": "python",
   "nbconvert_exporter": "python",
   "pygments_lexer": "ipython3",
   "version": "3.12.3"
  }
 },
 "nbformat": 4,
 "nbformat_minor": 5
}
