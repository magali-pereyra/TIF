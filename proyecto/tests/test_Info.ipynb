{
 "cells": [
  {
   "cell_type": "code",
   "execution_count": 5,
   "id": "516f5be7",
   "metadata": {},
   "outputs": [],
   "source": [
    "import sys\n",
    "sys.path.insert(0, r'C:\\Users\\Usuario\\Desktop\\7mo\\Programación\\TIF\\proyecto')\n",
    "\n",
    "from Info import Info\n"
   ]
  },
  {
   "cell_type": "code",
   "execution_count": 2,
   "id": "b10e993a",
   "metadata": {},
   "outputs": [
    {
     "ename": "ValueError",
     "evalue": "La longitud de 'ch_names' y 'ch_types' debe ser la misma.",
     "output_type": "error",
     "traceback": [
      "\u001b[1;31m---------------------------------------------------------------------------\u001b[0m",
      "\u001b[1;31mValueError\u001b[0m                                Traceback (most recent call last)",
      "Cell \u001b[1;32mIn[2], line 1\u001b[0m\n\u001b[1;32m----> 1\u001b[0m data \u001b[38;5;241m=\u001b[39m \u001b[43mInfo\u001b[49m\u001b[43m(\u001b[49m\u001b[43m[\u001b[49m\u001b[38;5;124;43m\"\u001b[39;49m\u001b[38;5;124;43mA\u001b[39;49m\u001b[38;5;124;43m\"\u001b[39;49m\u001b[43m,\u001b[49m\u001b[43m \u001b[49m\u001b[38;5;124;43m\"\u001b[39;49m\u001b[38;5;124;43mB\u001b[39;49m\u001b[38;5;124;43m\"\u001b[39;49m\u001b[43m,\u001b[49m\u001b[43m \u001b[49m\u001b[38;5;124;43m\"\u001b[39;49m\u001b[38;5;124;43mC\u001b[39;49m\u001b[38;5;124;43m\"\u001b[39;49m\u001b[43m]\u001b[49m\u001b[43m,\u001b[49m\u001b[43m[\u001b[49m\u001b[38;5;124;43m\"\u001b[39;49m\u001b[38;5;124;43mEEG\u001b[39;49m\u001b[38;5;124;43m\"\u001b[39;49m\u001b[43m,\u001b[49m\u001b[43m \u001b[49m\u001b[38;5;124;43m\"\u001b[39;49m\u001b[38;5;124;43mEEG\u001b[39;49m\u001b[38;5;124;43m\"\u001b[39;49m\u001b[43m,\u001b[49m\u001b[43m \u001b[49m\u001b[38;5;124;43m\"\u001b[39;49m\u001b[38;5;124;43mEMG\u001b[39;49m\u001b[38;5;124;43m\"\u001b[39;49m\u001b[43m,\u001b[49m\u001b[43m \u001b[49m\u001b[38;5;124;43m\"\u001b[39;49m\u001b[38;5;124;43mEMG\u001b[39;49m\u001b[38;5;124;43m\"\u001b[39;49m\u001b[43m]\u001b[49m\u001b[43m)\u001b[49m\n",
      "File \u001b[1;32mc:\\Users\\test1\\OneDrive\\Escritorio\\PDA\\TIF\\Info.py:48\u001b[0m, in \u001b[0;36mInfo.__init__\u001b[1;34m(self, ch_names, ch_types, bads, sfreq, description, experimenter, subject_info)\u001b[0m\n\u001b[0;32m     46\u001b[0m \u001b[38;5;66;03m# Verificar que las longitudes coincidan\u001b[39;00m\n\u001b[0;32m     47\u001b[0m \u001b[38;5;28;01mif\u001b[39;00m \u001b[38;5;28mself\u001b[39m\u001b[38;5;241m.\u001b[39mch_names \u001b[38;5;129;01mis\u001b[39;00m \u001b[38;5;129;01mnot\u001b[39;00m \u001b[38;5;28;01mNone\u001b[39;00m \u001b[38;5;129;01mand\u001b[39;00m \u001b[38;5;28mlen\u001b[39m(\u001b[38;5;28mself\u001b[39m\u001b[38;5;241m.\u001b[39mch_names) \u001b[38;5;241m!=\u001b[39m \u001b[38;5;28mlen\u001b[39m(\u001b[38;5;28mself\u001b[39m\u001b[38;5;241m.\u001b[39mch_types):\n\u001b[1;32m---> 48\u001b[0m     \u001b[38;5;28;01mraise\u001b[39;00m \u001b[38;5;167;01mValueError\u001b[39;00m(\u001b[38;5;124m\"\u001b[39m\u001b[38;5;124mLa longitud de \u001b[39m\u001b[38;5;124m'\u001b[39m\u001b[38;5;124mch_names\u001b[39m\u001b[38;5;124m'\u001b[39m\u001b[38;5;124m y \u001b[39m\u001b[38;5;124m'\u001b[39m\u001b[38;5;124mch_types\u001b[39m\u001b[38;5;124m'\u001b[39m\u001b[38;5;124m debe ser la misma.\u001b[39m\u001b[38;5;124m\"\u001b[39m)\n",
      "\u001b[1;31mValueError\u001b[0m: La longitud de 'ch_names' y 'ch_types' debe ser la misma."
     ]
    }
   ],
   "source": [
    "data = Info([\"A\", \"B\", \"C\"],[\"EEG\", \"EEG\", \"EMG\", \"EMG\"])"
   ]
  },
  {
   "cell_type": "code",
   "execution_count": 7,
   "id": "f1992e03",
   "metadata": {},
   "outputs": [],
   "source": [
    "data = Info([\"A\", \"B\", \"C\"],[\"EEG\", \"EEG\", \"EMG\"])"
   ]
  },
  {
   "cell_type": "markdown",
   "id": "66f53c4a",
   "metadata": {},
   "source": [
    "PRUEBA CONTAINS"
   ]
  },
  {
   "cell_type": "code",
   "execution_count": 8,
   "id": "29b36029",
   "metadata": {},
   "outputs": [
    {
     "name": "stdout",
     "output_type": "stream",
     "text": [
      "True\n",
      "True\n",
      "True\n",
      "True\n",
      "True\n",
      "True\n",
      "True\n",
      "False\n"
     ]
    }
   ],
   "source": [
    "keys = [\"ch_names\", \"ch_types\", \"bads\", \"sfreq\", \"description\",\"subject_info\",\"experimenter\", \"odds\"]\n",
    "for key in keys:\n",
    "    print(key in data)"
   ]
  },
  {
   "cell_type": "markdown",
   "id": "35c9998e",
   "metadata": {},
   "source": [
    "Nota: el nombre asignado para el atributo debe de ser el mismo de la variable si no tira False"
   ]
  },
  {
   "cell_type": "markdown",
   "id": "373295b7",
   "metadata": {},
   "source": [
    "PRUEBA GET ITEM"
   ]
  },
  {
   "cell_type": "code",
   "execution_count": 9,
   "id": "82e4da83",
   "metadata": {},
   "outputs": [
    {
     "name": "stdout",
     "output_type": "stream",
     "text": [
      "['A', 'B', 'C']\n",
      "['EEG', 'EEG', 'EMG']\n",
      "[]\n",
      "512\n",
      "No data\n",
      "No data\n",
      "No data\n",
      "[odds] no encontrado\n"
     ]
    }
   ],
   "source": [
    "for key in keys:\n",
    "    print(data[key])"
   ]
  },
  {
   "cell_type": "code",
   "execution_count": 10,
   "id": "6e8b762f",
   "metadata": {},
   "outputs": [
    {
     "data": {
      "text/plain": [
       "7"
      ]
     },
     "execution_count": 10,
     "metadata": {},
     "output_type": "execute_result"
    }
   ],
   "source": [
    "len(data)"
   ]
  },
  {
   "cell_type": "markdown",
   "id": "fba8fd8c",
   "metadata": {},
   "source": [
    "PRUEBA GET"
   ]
  },
  {
   "cell_type": "code",
   "execution_count": 11,
   "id": "d5cdbfaa",
   "metadata": {},
   "outputs": [
    {
     "data": {
      "text/plain": [
       "['A', 'B', 'C']"
      ]
     },
     "execution_count": 11,
     "metadata": {},
     "output_type": "execute_result"
    }
   ],
   "source": [
    "data.get(\"ch_names\")"
   ]
  },
  {
   "cell_type": "markdown",
   "id": "2332e35a",
   "metadata": {},
   "source": [
    "PRUEBA KEYS E ITEMS"
   ]
  },
  {
   "cell_type": "code",
   "execution_count": 12,
   "id": "e47f8563",
   "metadata": {},
   "outputs": [
    {
     "name": "stdout",
     "output_type": "stream",
     "text": [
      "['ch_names', 'sfreq', 'description', 'experimenter', 'subject_info', 'bads', 'ch_types']\n",
      "{'ch_names': ['A', 'B', 'C'], 'sfreq': 512, 'description': 'No data', 'experimenter': 'No data', 'subject_info': 'No data', 'bads': [], 'ch_types': ['EEG', 'EEG', 'EMG']}\n"
     ]
    }
   ],
   "source": [
    "print(list(data.keys()))\n",
    "print(dict(data.items()))"
   ]
  },
  {
   "cell_type": "markdown",
   "id": "d7b6c260",
   "metadata": {},
   "source": [
    "PRUEBA PRETTY"
   ]
  },
  {
   "cell_type": "code",
   "execution_count": 13,
   "id": "abaf8da8",
   "metadata": {},
   "outputs": [
    {
     "data": {
      "text/html": [
       "<div>\n",
       "<style scoped>\n",
       "    .dataframe tbody tr th:only-of-type {\n",
       "        vertical-align: middle;\n",
       "    }\n",
       "\n",
       "    .dataframe tbody tr th {\n",
       "        vertical-align: top;\n",
       "    }\n",
       "\n",
       "    .dataframe thead th {\n",
       "        text-align: right;\n",
       "    }\n",
       "</style>\n",
       "<table border=\"1\" class=\"dataframe\">\n",
       "  <thead>\n",
       "    <tr style=\"text-align: right;\">\n",
       "      <th></th>\n",
       "      <th>Clave</th>\n",
       "      <th>Valor</th>\n",
       "    </tr>\n",
       "  </thead>\n",
       "  <tbody>\n",
       "    <tr>\n",
       "      <th>0</th>\n",
       "      <td>ch_names</td>\n",
       "      <td>[A, B, C]</td>\n",
       "    </tr>\n",
       "    <tr>\n",
       "      <th>1</th>\n",
       "      <td>sfreq</td>\n",
       "      <td>512</td>\n",
       "    </tr>\n",
       "    <tr>\n",
       "      <th>2</th>\n",
       "      <td>description</td>\n",
       "      <td>No data</td>\n",
       "    </tr>\n",
       "    <tr>\n",
       "      <th>3</th>\n",
       "      <td>experimenter</td>\n",
       "      <td>No data</td>\n",
       "    </tr>\n",
       "    <tr>\n",
       "      <th>4</th>\n",
       "      <td>subject_info</td>\n",
       "      <td>No data</td>\n",
       "    </tr>\n",
       "    <tr>\n",
       "      <th>5</th>\n",
       "      <td>bads</td>\n",
       "      <td>[]</td>\n",
       "    </tr>\n",
       "    <tr>\n",
       "      <th>6</th>\n",
       "      <td>ch_types</td>\n",
       "      <td>[EEG, EEG, EMG]</td>\n",
       "    </tr>\n",
       "  </tbody>\n",
       "</table>\n",
       "</div>"
      ],
      "text/plain": [
       "          Clave            Valor\n",
       "0      ch_names        [A, B, C]\n",
       "1         sfreq              512\n",
       "2   description          No data\n",
       "3  experimenter          No data\n",
       "4  subject_info          No data\n",
       "5          bads               []\n",
       "6      ch_types  [EEG, EEG, EMG]"
      ]
     },
     "execution_count": 13,
     "metadata": {},
     "output_type": "execute_result"
    }
   ],
   "source": [
    "data.pretty()"
   ]
  },
  {
   "cell_type": "markdown",
   "id": "8e8d7c5b",
   "metadata": {},
   "source": [
    "RENOMBRAR CANALES"
   ]
  },
  {
   "cell_type": "code",
   "execution_count": 14,
   "id": "293377b9",
   "metadata": {},
   "outputs": [
    {
     "name": "stdout",
     "output_type": "stream",
     "text": [
      "Aviso: los siguientes canales no existen y no fueron renombrados: ['A1']\n"
     ]
    }
   ],
   "source": [
    "data.rename_channels({\"A1\":\"A\"})\n"
   ]
  },
  {
   "cell_type": "markdown",
   "id": "754a47a4",
   "metadata": {},
   "source": [
    "RENOMBRAR CON UN NOMBRE QUE NO EXISTE"
   ]
  },
  {
   "cell_type": "code",
   "execution_count": 15,
   "id": "b533f2e5",
   "metadata": {},
   "outputs": [
    {
     "name": "stdout",
     "output_type": "stream",
     "text": [
      "Aviso: los siguientes canales no existen y no fueron renombrados: ['pepito']\n"
     ]
    }
   ],
   "source": [
    "data.rename_channels({\"pepito\":\"juancito\"})\n"
   ]
  },
  {
   "cell_type": "markdown",
   "id": "9166518a",
   "metadata": {},
   "source": [
    "RENOMBRADO QUE CAUSE DUPLICADOS"
   ]
  },
  {
   "cell_type": "code",
   "execution_count": 16,
   "id": "bf8ae72c",
   "metadata": {},
   "outputs": [
    {
     "name": "stdout",
     "output_type": "stream",
     "text": [
      "Error: el renombrado genera canales duplicados. No se aplicaron cambios.\n"
     ]
    }
   ],
   "source": [
    "data.rename_channels({\"A\":\"B\"})"
   ]
  }
 ],
 "metadata": {
  "kernelspec": {
   "display_name": "magui",
   "language": "python",
   "name": "python3"
  },
  "language_info": {
   "codemirror_mode": {
    "name": "ipython",
    "version": 3
   },
   "file_extension": ".py",
   "mimetype": "text/x-python",
   "name": "python",
   "nbconvert_exporter": "python",
   "pygments_lexer": "ipython3",
   "version": "3.10.13"
  }
 },
 "nbformat": 4,
 "nbformat_minor": 5
}
